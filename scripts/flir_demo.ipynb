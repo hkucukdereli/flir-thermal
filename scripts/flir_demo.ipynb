{
 "cells": [
  {
   "cell_type": "code",
   "execution_count": 1,
   "id": "55a8fe68",
   "metadata": {},
   "outputs": [],
   "source": [
    "import numpy as np\n",
    "\n",
    "from flir_thermal.flirio import flirVideo\n",
    "\n",
    "import matplotlib.pyplot as plt\n",
    "%matplotlib inline\n",
    "plt.rcParams['figure.figsize'] = [3, 2]\n",
    "plt.rcParams['figure.dpi'] = 150\n",
    "plt.rcParams['font.size']= 8\n"
   ]
  },
  {
   "cell_type": "code",
   "execution_count": 2,
   "id": "af458b2a",
   "metadata": {},
   "outputs": [],
   "source": [
    "# video_path = fr'\\\\anastasia\\data\\behavior\\hakan\\thermal\\HK214\\Rec-0005.seq'\n",
    "video_path = fr'C:\\Users\\hkucukde\\Documents\\Rec-0005.seq'\n",
    "video = flirVideo(video_path)\n"
   ]
  },
  {
   "cell_type": "code",
   "execution_count": 4,
   "id": "13c90292",
   "metadata": {},
   "outputs": [
    {
     "name": "stdout",
     "output_type": "stream",
     "text": [
      "Video is 24.699 seconds long recorded at 60 Hz.\n",
      "Number of frames: 1477, height: 256, width: 320\n"
     ]
    }
   ],
   "source": [
    "video.metadata\n"
   ]
  },
  {
   "cell_type": "code",
   "execution_count": 5,
   "id": "9aeaef87",
   "metadata": {},
   "outputs": [
    {
     "name": "stdout",
     "output_type": "stream",
     "text": [
      "Num frames: 1477, height: 256, width: 320\n"
     ]
    }
   ],
   "source": [
    "video.size\n"
   ]
  },
  {
   "cell_type": "code",
   "execution_count": 6,
   "id": "c139e0c3",
   "metadata": {},
   "outputs": [
    {
     "data": {
      "text/plain": [
       "(60, 24.699)"
      ]
     },
     "execution_count": 6,
     "metadata": {},
     "output_type": "execute_result"
    }
   ],
   "source": [
    "video.fps, video.duration\n"
   ]
  },
  {
   "cell_type": "code",
   "execution_count": 8,
   "id": "40982f14",
   "metadata": {},
   "outputs": [
    {
     "name": "stderr",
     "output_type": "stream",
     "text": [
      "Loading video...: 100%|█████████████████████| 739/739 [00:01<00:00, 490.35it/s]\n"
     ]
    }
   ],
   "source": [
    "# Read every second frames\n",
    "index, data, time = video.read_video(np.arange(0, video.num_frames, 2))\n"
   ]
  },
  {
   "cell_type": "code",
   "execution_count": 7,
   "id": "d4d48652",
   "metadata": {},
   "outputs": [
    {
     "name": "stderr",
     "output_type": "stream",
     "text": [
      "Loading video...: 100%|███████████████████| 1477/1477 [00:03<00:00, 490.34it/s]\n"
     ]
    }
   ],
   "source": [
    "# oad the whole video\n",
    "index, data, time = video.read_video()\n"
   ]
  },
  {
   "cell_type": "code",
   "execution_count": null,
   "id": "6f8526db",
   "metadata": {},
   "outputs": [],
   "source": [
    "plt.figure(figsize=(2.6,1.6),dpi=150)\n",
    "plt.hist(np.ravel(video.data));\n",
    "plt.xlabel('Temp (C)')\n"
   ]
  },
  {
   "cell_type": "code",
   "execution_count": null,
   "id": "d07935f4",
   "metadata": {},
   "outputs": [],
   "source": [
    "plt.imshow(np.mean(video.data, axis=0), 'magma')\n",
    "plt.axis('off')\n",
    "plt.colorbar(fraction=.02, label='Temp (C)')\n"
   ]
  },
  {
   "cell_type": "code",
   "execution_count": null,
   "id": "475ed4e2",
   "metadata": {},
   "outputs": [],
   "source": [
    "plt.imshow(video.data[111,178:206,172:206], 'magma')\n",
    "plt.axis('off')\n",
    "plt.colorbar(fraction=.02, label='Temp (C)')\n"
   ]
  },
  {
   "cell_type": "code",
   "execution_count": null,
   "id": "fc1a9879",
   "metadata": {},
   "outputs": [],
   "source": [
    "plt.figure(figsize=(12,3))\n",
    "plt.plot(video.data[:,178:206,172:206].reshape(video.data.shape[0],-1).mean(axis=1))\n",
    "plt.ylabel('Temp (C)');\n",
    "plt.xlabel('Time (sec)');\n"
   ]
  },
  {
   "cell_type": "code",
   "execution_count": null,
   "id": "8fad18eb",
   "metadata": {},
   "outputs": [],
   "source": []
  }
 ],
 "metadata": {
  "kernelspec": {
   "display_name": "Python 3 (ipykernel)",
   "language": "python",
   "name": "python3"
  },
  "language_info": {
   "codemirror_mode": {
    "name": "ipython",
    "version": 3
   },
   "file_extension": ".py",
   "mimetype": "text/x-python",
   "name": "python",
   "nbconvert_exporter": "python",
   "pygments_lexer": "ipython3",
   "version": "3.9.15"
  }
 },
 "nbformat": 4,
 "nbformat_minor": 5
}
